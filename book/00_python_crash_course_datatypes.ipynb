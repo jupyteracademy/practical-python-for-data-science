{
 "cells": [
  {
   "cell_type": "markdown",
   "id": "9b833a43",
   "metadata": {},
   "source": [
    "# Python Datatypes \n",
    "\n",
    "All objects in Python have a datatype. If you want to know the datatype of an object, you can simply use the `type()` function. The main datatypes of Python are:\n",
    "\n",
    "1. [Integer](#integer)\n",
    "2. [Float](#float)\n",
    "3. [String](#string)\n",
    "4. [Boolean](#boolean)\n",
    "5. [List](#list) \n",
    "6. [Dictionary](#dictionary)\n",
    "\n",
    "Let's take a look at each one. "
   ]
  },
  {
   "cell_type": "markdown",
   "id": "8307b235",
   "metadata": {},
   "source": [
    "## 1) Integer \n",
    "\n",
    "The **integer** is a numerical datatype. It's a whole number, which means that it does not have any decimals and cannot be expressed as a fraction. \n",
    "\n",
    "**Examples of integers:**\n",
    "\n",
    "- population\n",
    "- number of cities\n",
    "- year  "
   ]
  },
  {
   "cell_type": "code",
   "execution_count": 1,
   "id": "4974e663",
   "metadata": {},
   "outputs": [
    {
     "data": {
      "text/plain": [
       "int"
      ]
     },
     "execution_count": 1,
     "metadata": {},
     "output_type": "execute_result"
    }
   ],
   "source": [
    "population = 1000\n",
    "type(population)"
   ]
  },
  {
   "cell_type": "markdown",
   "id": "64c5f934",
   "metadata": {},
   "source": [
    "\"int\" is short for \"integer\"! 😎"
   ]
  },
  {
   "cell_type": "markdown",
   "id": "6d77146d",
   "metadata": {},
   "source": [
    "## 2) Float \n",
    "\n",
    "The **float** is a real number written in scientific notation with decimals. This is useful when more precision is needed.\n",
    "\n",
    "**Examples of floats:**\n",
    "\n",
    "- cost of a latte\n",
    "- weight\n",
    "- distance in miles  "
   ]
  },
  {
   "cell_type": "code",
   "execution_count": 2,
   "id": "c8f0d2b2",
   "metadata": {},
   "outputs": [
    {
     "data": {
      "text/plain": [
       "float"
      ]
     },
     "execution_count": 2,
     "metadata": {},
     "output_type": "execute_result"
    }
   ],
   "source": [
    "cost_of_latte = 4.50\n",
    "type(cost_of_latte) "
   ]
  },
  {
   "cell_type": "markdown",
   "id": "d07380e2",
   "metadata": {},
   "source": [
    "Fractions are also expressed as floats (even if the output is theoretically a whole number):"
   ]
  },
  {
   "cell_type": "code",
   "execution_count": 3,
   "id": "f024fb8b",
   "metadata": {},
   "outputs": [
    {
     "data": {
      "text/plain": [
       "float"
      ]
     },
     "execution_count": 3,
     "metadata": {},
     "output_type": "execute_result"
    }
   ],
   "source": [
    "cost_per_egg = 12/12 \n",
    "type(cost_per_egg)"
   ]
  },
  {
   "cell_type": "markdown",
   "id": "7fb4115f",
   "metadata": {},
   "source": [
    "### Mixing Floats and Integers\n",
    "\n",
    "If we want to convert a float to an integer (or vice versa), we can easily do so by wrapping the variable in `int()` or `float()`. Let's try this out:"
   ]
  },
  {
   "cell_type": "code",
   "execution_count": 4,
   "id": "ada52513",
   "metadata": {},
   "outputs": [
    {
     "name": "stdout",
     "output_type": "stream",
     "text": [
      "Cost of apple: float 3.55 --> int 3\n",
      "Number of apples: int 10 --> float 10.0\n"
     ]
    }
   ],
   "source": [
    "cost_per_apple = 3.55\n",
    "n_apples = 10\n",
    "\n",
    "print(f\"Cost of apple: float {cost_per_apple} --> int {int(cost_per_apple)}\")\n",
    "print(f\"Number of apples: int {n_apples} --> float {float(n_apples)}\")"
   ]
  },
  {
   "cell_type": "markdown",
   "id": "cadeb5f2",
   "metadata": {},
   "source": [
    "When you \"cast\" (convert) a float into an integer using `int()`, it will trim the values after the decimal point and returns only the integer/whole number part. In other words, `int()` will always round down to the whole number."
   ]
  },
  {
   "cell_type": "markdown",
   "id": "728a7cc6",
   "metadata": {},
   "source": [
    "```{note}\n",
    "The print statements above use something called [f-strings](https://realpython.com/python-f-strings/). Why is it called **f-string**? If you notice in the code above, the string inside the print statement is preceded by an \"f\" - this puts it in \"f-string mode\". To embed an expression in your string, you need to wrap it inside squiggly brackets { }. The f-string is only available in Python 3.6 or greater. It lets you embed Python expressions inside string literals in a readable way. Before Python 3.6, you would have to use %-formatting or .format() to embed expressions inside strings, which was much more verbose and prone to error.\n",
    "```"
   ]
  },
  {
   "cell_type": "markdown",
   "id": "bfbf11e3",
   "metadata": {},
   "source": [
    "In Python, it's possible to mix integers and floats in an arithmetic operation. So you don't need to worry about converting these numeric types into a common format. Let's test it out with our variables n_apples (an integer) and cost_per_apple (a float)."
   ]
  },
  {
   "cell_type": "code",
   "execution_count": 5,
   "id": "803b0572",
   "metadata": {},
   "outputs": [
    {
     "data": {
      "text/plain": [
       "35.5"
      ]
     },
     "execution_count": 5,
     "metadata": {},
     "output_type": "execute_result"
    }
   ],
   "source": [
    "total_cost = n_apples*cost_per_apple\n",
    "total_cost"
   ]
  },
  {
   "cell_type": "markdown",
   "id": "dd2b266b",
   "metadata": {},
   "source": [
    "We can see that the output of `n_apples * cost_per_apple` is a float. This is because `n_apples`, which was originally an integer, gets converted to a float when it gets multiplied with `cost_per_apple`.\n",
    "\n",
    "Here's a complete list of arithmetic operations in Python:\n",
    "\n",
    "- **Addition:** gets the sum of the operands\n",
    "```\n",
    "x + y\n",
    "```\n",
    "- **Subtraction:** gets the difference of the operands\n",
    "```\n",
    "x - y\n",
    "```\n",
    "- **Multiplication:** gets the product of the operands\n",
    "```\n",
    "x * y\n",
    "```\n",
    "- **Division:** produces the quotient of the operands and returns a float\n",
    "```\n",
    "x / y\n",
    "```\n",
    "- **Division with floor:** produces the quotient of the operands and returns an integer (rounds down)\n",
    "```\n",
    "x // y\n",
    "```\n",
    "- **Exponent:** raises the first operand to the power of the second operand\n",
    "```\n",
    "x ** y\n",
    "```"
   ]
  },
  {
   "cell_type": "markdown",
   "id": "d3656a4b",
   "metadata": {},
   "source": [
    "## 3) String \n",
    "\n",
    "The **string** datatype is typically used to store text. We can think of a string as a \"sequence of charactertics\" which can be alphateic, numeric, or having special characters. A string is surrounded by quotations, which can be either double quotes `\" \"` or single `' '` quotes.\n",
    "\n",
    "**Examples of strings:**\n",
    "\n",
    "- name of city \n",
    "- address\n",
    "- Canadian postal code"
   ]
  },
  {
   "cell_type": "code",
   "execution_count": 6,
   "id": "c68f4b94",
   "metadata": {},
   "outputs": [
    {
     "data": {
      "text/plain": [
       "str"
      ]
     },
     "execution_count": 6,
     "metadata": {},
     "output_type": "execute_result"
    }
   ],
   "source": [
    "name_of_city = 'Toronto'\n",
    "type(name_of_city) "
   ]
  },
  {
   "cell_type": "markdown",
   "id": "ae5ab0e9",
   "metadata": {},
   "source": [
    "If a string contains an apostrophe, we can use double quotes to define the string and use a single quote character in the string."
   ]
  },
  {
   "cell_type": "code",
   "execution_count": 7,
   "id": "6837e39d",
   "metadata": {},
   "outputs": [
    {
     "name": "stdout",
     "output_type": "stream",
     "text": [
      "It's snowing outside\n"
     ]
    }
   ],
   "source": [
    "text = \"It's snowing outside\"\n",
    "print(text)"
   ]
  },
  {
   "cell_type": "markdown",
   "id": "5ff53e65",
   "metadata": {},
   "source": [
    "It's important to note that *anything* surrounded by quotations is treated as a string. For example, if you wrap an integer in quotations, its datatype will be a string. "
   ]
  },
  {
   "cell_type": "code",
   "execution_count": 8,
   "id": "d52359f9",
   "metadata": {},
   "outputs": [
    {
     "data": {
      "text/plain": [
       "str"
      ]
     },
     "execution_count": 8,
     "metadata": {},
     "output_type": "execute_result"
    }
   ],
   "source": [
    "number_of_planets = \"9\"\n",
    "type(number_of_planets)"
   ]
  },
  {
   "cell_type": "markdown",
   "id": "8a914f78",
   "metadata": {},
   "source": [
    "### Strings within Strings \n",
    "\n",
    "If we want to see if a shorter string is inside a longer string, we can use the `in` operator."
   ]
  },
  {
   "cell_type": "code",
   "execution_count": 9,
   "id": "88118e42",
   "metadata": {},
   "outputs": [
    {
     "data": {
      "text/plain": [
       "True"
      ]
     },
     "execution_count": 9,
     "metadata": {},
     "output_type": "execute_result"
    }
   ],
   "source": [
    "'el' in 'Hello'"
   ]
  },
  {
   "cell_type": "markdown",
   "id": "1a4606b5",
   "metadata": {},
   "source": [
    "### Built-in Functions\n",
    "\n",
    "Strings have some special built-in functions that are useful when you're analyzing data.\n",
    "\n",
    "- `text.upper()` - converts text to all uppercase  \n",
    "- `text.lower()` - converts text to all lowercase\n",
    "- `text.capitalize()` - capitalizes text (first character is made uppercase, followed by all lowercase characters)\n",
    "- `len(text)` - measures the length of a string (i.e., character count)\n",
    "- `text.replace('t', 'a')` - replaces a part of the string with another string "
   ]
  },
  {
   "cell_type": "markdown",
   "id": "13f502b5",
   "metadata": {},
   "source": [
    "## 4) Boolean \n",
    "\n",
    "A boolean is a binary datatype which can be either `True` or `False`. For those of you who are familiar with other programming languages, it's important to note that Python's boolean datatype must be capitalized - uppercase T for `True` and uppercase F for `False`. Booleans are often used to answer a yes/no question like \"is it nighttime?\" or \"is the patient female?\". \n",
    "\n",
    "**Examples of booleans:**\n",
    "\n",
    "- is it morning?\n",
    "- is the patient on meds? \n",
    "- does x equal y?"
   ]
  },
  {
   "cell_type": "code",
   "execution_count": 10,
   "id": "86dbc88d",
   "metadata": {},
   "outputs": [
    {
     "data": {
      "text/plain": [
       "bool"
      ]
     },
     "execution_count": 10,
     "metadata": {},
     "output_type": "execute_result"
    }
   ],
   "source": [
    "is_morning = False\n",
    "type(is_morning)"
   ]
  },
  {
   "cell_type": "markdown",
   "id": "88f970b6",
   "metadata": {},
   "source": [
    "\"bool\" is short for boolean! 😎"
   ]
  },
  {
   "cell_type": "markdown",
   "id": "6ad80a3f",
   "metadata": {},
   "source": [
    "### Comparing Values with Boolean Expressions\n",
    "\n",
    "A boolean expression evaluates a statement and results in a boolean value. For example, the operator `==` tests if two values are equal."
   ]
  },
  {
   "cell_type": "code",
   "execution_count": 11,
   "id": "f05820c6",
   "metadata": {},
   "outputs": [
    {
     "data": {
      "text/plain": [
       "False"
      ]
     },
     "execution_count": 11,
     "metadata": {},
     "output_type": "execute_result"
    }
   ],
   "source": [
    "is_vegan = False\n",
    "is_vegetarian = True \n",
    "\n",
    "is_vegan == is_vegetarian"
   ]
  },
  {
   "cell_type": "markdown",
   "id": "4c9adf4e",
   "metadata": {},
   "source": [
    "You can also compare two numeric values using:\n",
    "\n",
    "- `>` (greater than)\n",
    "- `<` (less than)\n",
    "- `>=` (greater than or equal to)\n",
    "- `<=` (less than or equal to)"
   ]
  },
  {
   "cell_type": "code",
   "execution_count": 12,
   "id": "a8cb2e9c",
   "metadata": {},
   "outputs": [
    {
     "data": {
      "text/plain": [
       "True"
      ]
     },
     "execution_count": 12,
     "metadata": {},
     "output_type": "execute_result"
    }
   ],
   "source": [
    "n_donuts = 10\n",
    "n_muffins = 5\n",
    "\n",
    "n_donuts >= n_muffins"
   ]
  },
  {
   "cell_type": "markdown",
   "id": "53bd7d9a",
   "metadata": {},
   "source": [
    "### Comparing Strings with Boolean Expressions\n",
    "\n",
    "Interestingly, you can also compare two strings. The evaluation goes by alphabetical order so the \"larger\" item would be higher up in the alphabet. "
   ]
  },
  {
   "cell_type": "code",
   "execution_count": 13,
   "id": "e18321a6",
   "metadata": {},
   "outputs": [
    {
     "data": {
      "text/plain": [
       "False"
      ]
     },
     "execution_count": 13,
     "metadata": {},
     "output_type": "execute_result"
    }
   ],
   "source": [
    "server = 'Anne'\n",
    "host = 'Jim'\n",
    "\n",
    "server > host"
   ]
  },
  {
   "cell_type": "markdown",
   "id": "a80a0b65",
   "metadata": {},
   "source": [
    "## 5) List\n",
    "\n",
    "[Lists](https://www.w3schools.com/python/python_ref_list.asp) represent a collection of objects and are constructed with square brackets, separating items with commas. A list can contain a collection of one datatype:\n",
    "\n",
    "```\n",
    "list_of_integers = [1,2,3,4,5]\n",
    "```\n",
    "\n",
    "It can also contain a collection of mixed datatypes:\n",
    "\n",
    "```\n",
    "list_of_mixed_datatypes = ['cat', 10, 'belarus', True]\n",
    "```"
   ]
  },
  {
   "cell_type": "markdown",
   "id": "cfd4d609",
   "metadata": {},
   "source": [
    "Let's start with a simple list that captures the number of hours slept by a group of friends:"
   ]
  },
  {
   "cell_type": "code",
   "execution_count": 14,
   "id": "9177fd50",
   "metadata": {},
   "outputs": [],
   "source": [
    "hours_slept = [10,12,5,8]"
   ]
  },
  {
   "cell_type": "markdown",
   "id": "538cabb9",
   "metadata": {},
   "source": [
    "To get the length (count) of a list, you can use `len()`."
   ]
  },
  {
   "cell_type": "code",
   "execution_count": 15,
   "id": "8649a5fc",
   "metadata": {},
   "outputs": [
    {
     "data": {
      "text/plain": [
       "4"
      ]
     },
     "execution_count": 15,
     "metadata": {},
     "output_type": "execute_result"
    }
   ],
   "source": [
    "len(hours_slept)"
   ]
  },
  {
   "cell_type": "markdown",
   "id": "10365d15",
   "metadata": {},
   "source": [
    "To get the sum of numbers in a list, you can use `sum()`. This will only work if all elements in the list are numeric. "
   ]
  },
  {
   "cell_type": "code",
   "execution_count": 16,
   "id": "07f5b1e9",
   "metadata": {},
   "outputs": [
    {
     "data": {
      "text/plain": [
       "35"
      ]
     },
     "execution_count": 16,
     "metadata": {},
     "output_type": "execute_result"
    }
   ],
   "source": [
    "sum(hours_slept)"
   ]
  },
  {
   "cell_type": "markdown",
   "id": "7cdbe619",
   "metadata": {},
   "source": [
    "You can get the smallest and largest values of a list using `min()` and `max()`, respectively."
   ]
  },
  {
   "cell_type": "code",
   "execution_count": 17,
   "id": "4db43aa4",
   "metadata": {},
   "outputs": [
    {
     "data": {
      "text/plain": [
       "5"
      ]
     },
     "execution_count": 17,
     "metadata": {},
     "output_type": "execute_result"
    }
   ],
   "source": [
    "min(hours_slept)"
   ]
  },
  {
   "cell_type": "code",
   "execution_count": 18,
   "id": "798cecd1",
   "metadata": {},
   "outputs": [
    {
     "data": {
      "text/plain": [
       "12"
      ]
     },
     "execution_count": 18,
     "metadata": {},
     "output_type": "execute_result"
    }
   ],
   "source": [
    "max(hours_slept)"
   ]
  },
  {
   "cell_type": "markdown",
   "id": "d014e71c",
   "metadata": {},
   "source": [
    "### Sorting Lists\n",
    "\n",
    "You can also sort elements within a list using the `.sorted()` function, which sorts the list from lowest to highest value."
   ]
  },
  {
   "cell_type": "code",
   "execution_count": 19,
   "id": "d264d401",
   "metadata": {},
   "outputs": [
    {
     "data": {
      "text/plain": [
       "[5, 8, 10, 12]"
      ]
     },
     "execution_count": 19,
     "metadata": {},
     "output_type": "execute_result"
    }
   ],
   "source": [
    "hours_slept.sort()\n",
    "hours_slept"
   ]
  },
  {
   "cell_type": "markdown",
   "id": "b6b14ef6",
   "metadata": {},
   "source": [
    "You can also reverse the order of the sort, from highest to lowest value, sing `.reverse()`."
   ]
  },
  {
   "cell_type": "code",
   "execution_count": 20,
   "id": "10b064e0",
   "metadata": {},
   "outputs": [
    {
     "data": {
      "text/plain": [
       "[12, 10, 8, 5]"
      ]
     },
     "execution_count": 20,
     "metadata": {},
     "output_type": "execute_result"
    }
   ],
   "source": [
    "hours_slept.reverse()\n",
    "hours_slept"
   ]
  },
  {
   "cell_type": "markdown",
   "id": "b04f2cea",
   "metadata": {},
   "source": [
    "### Lists are ordered\n",
    "\n",
    "Lists are ordered which means that the order of elements within a list is part of a list's identity. You can have two lists with the exact same elements but if the order of elements are different, these lists are not the same. Let's demonstrate this with an example."
   ]
  },
  {
   "cell_type": "code",
   "execution_count": 21,
   "id": "4499f09f",
   "metadata": {},
   "outputs": [
    {
     "data": {
      "text/plain": [
       "False"
      ]
     },
     "execution_count": 21,
     "metadata": {},
     "output_type": "execute_result"
    }
   ],
   "source": [
    "list1 = [1,2,3,4]\n",
    "list2 = [4,3,2,1]\n",
    "\n",
    "list1 == list2"
   ]
  },
  {
   "cell_type": "markdown",
   "id": "c353c8e6",
   "metadata": {},
   "source": [
    "`list1` and `list2` are not equal to one another since the order of their elements are different."
   ]
  },
  {
   "cell_type": "markdown",
   "id": "bca028ad",
   "metadata": {},
   "source": [
    "### The Index: Accessing Elements within a List\n",
    "\n",
    "You can access elements in a list by referencing its index. The index of a list starts at 0, which is probably different from what you're use to if you come from an R or Matlab background.\n",
    "\n",
    "<img src=\"https://media.giphy.com/media/JsDfrn04D8fLO/giphy.gif\"/>\n",
    "\n",
    "Let's say we want to go grocery shopping. We made a list of all the items we want to buy:\n",
    "\n",
    "<img width=\"60%\" sr=\"https://practicalpython.s3.us-east-2.amazonaws.com/assets/shopping_list.png\"/>\n",
    "\n",
    "Each item in this list has a location (an index). \n",
    "\n",
    "<img width=\"50%\" sr=\"https://practicalpython.s3.us-east-2.amazonaws.com/assets/shopping_list_index.png\"/>\n",
    "\n",
    "A list can have negative indices too. A negative list index counts from the end of a list. \n",
    "<img width=\"48%\" sr=\"https://practicalpython.s3.us-east-2.amazonaws.com/assets/shopping_list_negative_indices.png\"/>\n",
    "\n",
    "We can get an individual item from a list using `shopping_list[index]`. Let's test this out!"
   ]
  },
  {
   "cell_type": "code",
   "execution_count": 22,
   "id": "228f132d",
   "metadata": {},
   "outputs": [
    {
     "name": "stdout",
     "output_type": "stream",
     "text": [
      "apples\n",
      "carrots\n",
      "chocolate\n",
      "bananas\n",
      "onions\n"
     ]
    }
   ],
   "source": [
    "shopping_list = ['apples', 'carrots', 'chocolate', 'bananas', 'onions']\n",
    "\n",
    "print(shopping_list[0])\n",
    "print(shopping_list[1])\n",
    "print(shopping_list[2])\n",
    "print(shopping_list[3])\n",
    "print(shopping_list[4])"
   ]
  },
  {
   "cell_type": "markdown",
   "id": "4f4457b3",
   "metadata": {},
   "source": [
    "Now, let's try calling each item by its negative index. "
   ]
  },
  {
   "cell_type": "code",
   "execution_count": 23,
   "id": "0a477bdd",
   "metadata": {},
   "outputs": [
    {
     "name": "stdout",
     "output_type": "stream",
     "text": [
      "apples\n",
      "carrots\n",
      "chocolate\n",
      "bananas\n",
      "onions\n"
     ]
    }
   ],
   "source": [
    "print(shopping_list[-5])\n",
    "print(shopping_list[-4])\n",
    "print(shopping_list[-3])\n",
    "print(shopping_list[-2])\n",
    "print(shopping_list[-1])"
   ]
  },
  {
   "cell_type": "markdown",
   "id": "9106803c",
   "metadata": {},
   "source": [
    "### Slicing a list\n",
    "\n",
    "You can get a subset of a list, or \"slice\" it, using list indices. If `shopping_list` is a list, the expression `[m:n]` returns the portion of `shopping_list` from the index `m` to BUT not including index `n`. Let's see how this works."
   ]
  },
  {
   "cell_type": "code",
   "execution_count": 24,
   "id": "f6d380d1",
   "metadata": {},
   "outputs": [
    {
     "data": {
      "text/plain": [
       "['carrots', 'chocolate']"
      ]
     },
     "execution_count": 24,
     "metadata": {},
     "output_type": "execute_result"
    }
   ],
   "source": [
    "shopping_list[1:3]"
   ]
  },
  {
   "cell_type": "markdown",
   "id": "c2d657e4",
   "metadata": {},
   "source": [
    "The code above returns 'carrots' and 'chocolate', which are represented by indices 1 and 2. It didn't return index 3 (bananas) because the second number of the slice is non-inclusive. To include index 3, we would have to update the slice to `[1:4]`:"
   ]
  },
  {
   "cell_type": "code",
   "execution_count": 25,
   "id": "d7fdc8c1",
   "metadata": {},
   "outputs": [
    {
     "data": {
      "text/plain": [
       "['carrots', 'chocolate', 'bananas']"
      ]
     },
     "execution_count": 25,
     "metadata": {},
     "output_type": "execute_result"
    }
   ],
   "source": [
    "shopping_list[1:4]"
   ]
  },
  {
   "cell_type": "markdown",
   "id": "49765705",
   "metadata": {},
   "source": [
    "### Finding Elements in a List\n",
    "\n",
    "You can check to see if an element exists inside a list using the `in` operator."
   ]
  },
  {
   "cell_type": "code",
   "execution_count": 26,
   "id": "670a3201",
   "metadata": {},
   "outputs": [
    {
     "data": {
      "text/plain": [
       "True"
      ]
     },
     "execution_count": 26,
     "metadata": {},
     "output_type": "execute_result"
    }
   ],
   "source": [
    "'carrots' in shopping_list"
   ]
  },
  {
   "cell_type": "code",
   "execution_count": 27,
   "id": "4615230f",
   "metadata": {},
   "outputs": [
    {
     "data": {
      "text/plain": [
       "False"
      ]
     },
     "execution_count": 27,
     "metadata": {},
     "output_type": "execute_result"
    }
   ],
   "source": [
    "'milk' in shopping_list"
   ]
  },
  {
   "cell_type": "markdown",
   "id": "a7aebc0f",
   "metadata": {},
   "source": [
    "### Iterating Over Lists\n",
    "\n",
    "There are several ways to iterate over a list. The traditional approach is to use a `for loop`."
   ]
  },
  {
   "cell_type": "code",
   "execution_count": 28,
   "id": "89965411",
   "metadata": {},
   "outputs": [
    {
     "name": "stdout",
     "output_type": "stream",
     "text": [
      "apples\n",
      "carrots\n",
      "chocolate\n",
      "bananas\n",
      "onions\n"
     ]
    }
   ],
   "source": [
    "for item in shopping_list:\n",
    "    print(item)"
   ]
  },
  {
   "cell_type": "markdown",
   "id": "4b630e30",
   "metadata": {},
   "source": [
    "If you also need the element's index in your for loop, you can access it using `enumerate()`."
   ]
  },
  {
   "cell_type": "code",
   "execution_count": 29,
   "id": "153975e5",
   "metadata": {},
   "outputs": [
    {
     "name": "stdout",
     "output_type": "stream",
     "text": [
      "1) apples\n",
      "2) carrots\n",
      "3) chocolate\n",
      "4) bananas\n",
      "5) onions\n"
     ]
    }
   ],
   "source": [
    "for i, item in enumerate(shopping_list):\n",
    "    print(f\"{i+1}) {item}\")"
   ]
  },
  {
   "cell_type": "markdown",
   "id": "bb45d629",
   "metadata": {},
   "source": [
    "Another way to iterate over a list is to use list comprehension. This is a one-liner that is useful when you're applying a simple operation to each element in your list. For example, let's make all elements inside `shopping_list` uppercase."
   ]
  },
  {
   "cell_type": "code",
   "execution_count": 30,
   "id": "4a3a185f",
   "metadata": {},
   "outputs": [
    {
     "data": {
      "text/plain": [
       "['APPLES', 'CARROTS', 'CHOCOLATE', 'BANANAS', 'ONIONS']"
      ]
     },
     "execution_count": 30,
     "metadata": {},
     "output_type": "execute_result"
    }
   ],
   "source": [
    "[item.upper() for item in shopping_list]"
   ]
  },
  {
   "cell_type": "markdown",
   "id": "b7df65c6",
   "metadata": {},
   "source": [
    "### Lists are Mutable\n",
    "\n",
    "An important feature of a list is that it's mutable. This means that elements within a list can be added, deleted, or changed after being defined.\n",
    "\n",
    "To add a new element to a list, you can use `.extend()`:"
   ]
  },
  {
   "cell_type": "code",
   "execution_count": 31,
   "id": "92a9f89f",
   "metadata": {},
   "outputs": [
    {
     "data": {
      "text/plain": [
       "['apples', 'carrots', 'chocolate', 'bananas', 'onions', 'milk']"
      ]
     },
     "execution_count": 31,
     "metadata": {},
     "output_type": "execute_result"
    }
   ],
   "source": [
    "shopping_list.extend(['milk'])\n",
    "shopping_list"
   ]
  },
  {
   "cell_type": "markdown",
   "id": "20a62882",
   "metadata": {},
   "source": [
    "You can also add another list like this:"
   ]
  },
  {
   "cell_type": "code",
   "execution_count": 32,
   "id": "38748117",
   "metadata": {},
   "outputs": [
    {
     "data": {
      "text/plain": [
       "['apples',\n",
       " 'carrots',\n",
       " 'chocolate',\n",
       " 'bananas',\n",
       " 'onions',\n",
       " 'milk',\n",
       " 'cake',\n",
       " 'watermelon']"
      ]
     },
     "execution_count": 32,
     "metadata": {},
     "output_type": "execute_result"
    }
   ],
   "source": [
    "more_food = ['cake', 'watermelon']\n",
    "shopping_list += more_food\n",
    "shopping_list"
   ]
  },
  {
   "cell_type": "markdown",
   "id": "0c9561ca",
   "metadata": {},
   "source": [
    "To remove the last element of a list, you can \"pop\" it:"
   ]
  },
  {
   "cell_type": "code",
   "execution_count": 33,
   "id": "128f3015",
   "metadata": {},
   "outputs": [
    {
     "data": {
      "text/plain": [
       "['apples', 'carrots', 'chocolate', 'bananas', 'onions', 'milk', 'cake']"
      ]
     },
     "execution_count": 33,
     "metadata": {},
     "output_type": "execute_result"
    }
   ],
   "source": [
    "shopping_list.pop()\n",
    "shopping_list"
   ]
  },
  {
   "cell_type": "markdown",
   "id": "fd4d823f",
   "metadata": {},
   "source": [
    "If you wanted to remove a specific element from your list, you can use the `remove()` method."
   ]
  },
  {
   "cell_type": "code",
   "execution_count": 34,
   "id": "5d6f829f",
   "metadata": {},
   "outputs": [
    {
     "data": {
      "text/plain": [
       "['apples', 'chocolate', 'bananas', 'onions', 'milk', 'cake']"
      ]
     },
     "execution_count": 34,
     "metadata": {},
     "output_type": "execute_result"
    }
   ],
   "source": [
    "shopping_list.remove('carrots')\n",
    "shopping_list"
   ]
  },
  {
   "cell_type": "markdown",
   "id": "bed14dc2",
   "metadata": {},
   "source": [
    "## 6) Dictionary\n",
    "\n",
    "Dictionaries are used to store data values in `key:value` pairs. Similar to the [list](#List), a dictionary is a collection of objects. It is also **mutable**, meaning that you can add, remove, change values inside of it. \n",
    "\n",
    "```{note}\n",
    "If you’ve ever worked with JSON before, a dictionary is very similar to the JSON object. In fact, if you load JSON data into Python, it will be expressed as a dictionary. Similarly, you can write a Python dictionary to a JSON file. \n",
    "```\n",
    "\n",
    "With the **list**, we access elements using the index. With the **dictionary**, we access elements using keys. Let's take a look at an example of a dictionary which captures population information about boroughs in New York City: "
   ]
  },
  {
   "cell_type": "code",
   "execution_count": 35,
   "id": "62413e2a",
   "metadata": {},
   "outputs": [
    {
     "data": {
      "text/plain": [
       "dict"
      ]
     },
     "execution_count": 35,
     "metadata": {},
     "output_type": "execute_result"
    }
   ],
   "source": [
    "population_nyc = {\n",
    "    'bronx': 1472654,\n",
    "    'brooklyn': 2736074,\n",
    "    'manhattan': 1694251, \n",
    "    'queens': 2405464,\n",
    "    'staten_island': 495747\n",
    "}\n",
    "\n",
    "type(population_nyc)"
   ]
  },
  {
   "cell_type": "markdown",
   "id": "8d4348f1",
   "metadata": {},
   "source": [
    "\"dict\" is short for \"dictionary\"! 😎"
   ]
  },
  {
   "cell_type": "markdown",
   "id": "051cf4bd",
   "metadata": {},
   "source": [
    "In this dictionary, the \"key\" is the borough name and the \"value\" is the population of that borough. To get a particular value, we need to know the key of that value.\n",
    "\n",
    "<img width='50%' sr=\"https://practicalpython.s3.us-east-2.amazonaws.com/assets/key_value_pair.png\"/>\n",
    "\n",
    "For example, let's say we want to get the population of Manhattan. We can do so by doing this:"
   ]
  },
  {
   "cell_type": "code",
   "execution_count": 36,
   "id": "26ea328a",
   "metadata": {},
   "outputs": [
    {
     "data": {
      "text/plain": [
       "1694251"
      ]
     },
     "execution_count": 36,
     "metadata": {},
     "output_type": "execute_result"
    }
   ],
   "source": [
    "population_nyc['manhattan']"
   ]
  },
  {
   "cell_type": "markdown",
   "id": "81aa9efe",
   "metadata": {},
   "source": [
    "We can get all keys of a dictionary using `.keys()`:"
   ]
  },
  {
   "cell_type": "code",
   "execution_count": 37,
   "id": "9e79d91a",
   "metadata": {},
   "outputs": [
    {
     "data": {
      "text/plain": [
       "dict_keys(['bronx', 'brooklyn', 'manhattan', 'queens', 'staten_island'])"
      ]
     },
     "execution_count": 37,
     "metadata": {},
     "output_type": "execute_result"
    }
   ],
   "source": [
    "population_nyc.keys()"
   ]
  },
  {
   "cell_type": "markdown",
   "id": "0cda691e",
   "metadata": {},
   "source": [
    "We can get all values of a dictionary using `.values()`:"
   ]
  },
  {
   "cell_type": "code",
   "execution_count": 38,
   "id": "fcdbefb0",
   "metadata": {},
   "outputs": [
    {
     "data": {
      "text/plain": [
       "dict_values([1472654, 2736074, 1694251, 2405464, 495747])"
      ]
     },
     "execution_count": 38,
     "metadata": {},
     "output_type": "execute_result"
    }
   ],
   "source": [
    "population_nyc.values()"
   ]
  },
  {
   "cell_type": "markdown",
   "id": "f60941e1",
   "metadata": {},
   "source": [
    "You can **add** a new key-value pair to the dictionary like this:"
   ]
  },
  {
   "cell_type": "code",
   "execution_count": 39,
   "id": "9d5f67e1",
   "metadata": {},
   "outputs": [
    {
     "data": {
      "text/plain": [
       "{'bronx': 1472654,\n",
       " 'brooklyn': 2736074,\n",
       " 'manhattan': 1694251,\n",
       " 'queens': 2405464,\n",
       " 'staten_island': 495747,\n",
       " 'long_island': 8063232}"
      ]
     },
     "execution_count": 39,
     "metadata": {},
     "output_type": "execute_result"
    }
   ],
   "source": [
    "population_nyc['long_island'] = 8063232\n",
    "population_nyc"
   ]
  },
  {
   "cell_type": "markdown",
   "id": "64e5425c",
   "metadata": {},
   "source": [
    "You can also **change the value** of a key like this:"
   ]
  },
  {
   "cell_type": "code",
   "execution_count": 40,
   "id": "29120f7d",
   "metadata": {},
   "outputs": [
    {
     "data": {
      "text/plain": [
       "{'bronx': 1472654,\n",
       " 'brooklyn': 2736074,\n",
       " 'manhattan': 1694251,\n",
       " 'queens': 2405464,\n",
       " 'staten_island': 495747,\n",
       " 'long_island': 8}"
      ]
     },
     "execution_count": 40,
     "metadata": {},
     "output_type": "execute_result"
    }
   ],
   "source": [
    "population_nyc['long_island'] = 8\n",
    "population_nyc"
   ]
  },
  {
   "cell_type": "markdown",
   "id": "efd69a3b",
   "metadata": {},
   "source": [
    "Long Island is technically not part of NYC so let's remove it from our dictionary. We can **remove** the \"long_island\" key-value pair using `.pop(key_name)`."
   ]
  },
  {
   "cell_type": "code",
   "execution_count": 41,
   "id": "22edcdc7",
   "metadata": {},
   "outputs": [
    {
     "data": {
      "text/plain": [
       "{'bronx': 1472654,\n",
       " 'brooklyn': 2736074,\n",
       " 'manhattan': 1694251,\n",
       " 'queens': 2405464,\n",
       " 'staten_island': 495747}"
      ]
     },
     "execution_count": 41,
     "metadata": {},
     "output_type": "execute_result"
    }
   ],
   "source": [
    "population_nyc.pop('long_island')\n",
    "population_nyc"
   ]
  }
 ],
 "metadata": {
  "jupytext": {
   "cell_metadata_filter": "-all",
   "main_language": "python",
   "notebook_metadata_filter": "-all"
  },
  "kernelspec": {
   "display_name": "Python 3 (ipykernel)",
   "language": "python",
   "name": "python3"
  },
  "language_info": {
   "codemirror_mode": {
    "name": "ipython",
    "version": 3
   },
   "file_extension": ".py",
   "mimetype": "text/x-python",
   "name": "python",
   "nbconvert_exporter": "python",
   "pygments_lexer": "ipython3",
   "version": "3.9.12"
  }
 },
 "nbformat": 4,
 "nbformat_minor": 5
}
