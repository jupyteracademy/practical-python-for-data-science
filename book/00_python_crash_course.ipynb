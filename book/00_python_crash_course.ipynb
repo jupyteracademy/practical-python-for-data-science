{
 "cells": [
  {
   "cell_type": "markdown",
   "id": "90cc6d0b",
   "metadata": {},
   "source": [
    "# Python Crash Course\n",
    "\n",
    "You don't need to have world-class Python skills to use Python for data science. While it's helpful to have coding experience, you can get by with knowing the main datatypes of Python and how object-oriented programming works. In this Python crash course, we will cover:\n",
    "\n",
    "1. [Object-Oriented Programming](00_python_crash_course_oop)\n",
    "2. [Python Datatypes](00_python_crash_course_datatypes)\n",
    "3. [Variables](00_python_crash_course_variables)\n",
    "4. [Functions](00_python_crash_course_functions)\n",
    "\n",
    "<img src=\"https://media.giphy.com/media/3oKIPnAiaMCws8nOsE/giphy.gif\"/>"
   ]
  }
 ],
 "metadata": {
  "jupytext": {
   "cell_metadata_filter": "-all",
   "main_language": "python",
   "notebook_metadata_filter": "-all"
  },
  "kernelspec": {
   "display_name": "Python 3 (ipykernel)",
   "language": "python",
   "name": "python3"
  },
  "language_info": {
   "codemirror_mode": {
    "name": "ipython",
    "version": 3
   },
   "file_extension": ".py",
   "mimetype": "text/x-python",
   "name": "python",
   "nbconvert_exporter": "python",
   "pygments_lexer": "ipython3",
   "version": "3.9.12"
  }
 },
 "nbformat": 4,
 "nbformat_minor": 5
}
